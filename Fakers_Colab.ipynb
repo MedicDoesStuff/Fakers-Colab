#@title Install or update FakersLab from Github

Mode = "install" #@param ["install", "update", "remove"]
Repository = "MedicDoesStuff edition" #@param ["Official DFL", "Original faceshiftlabs repository", "MachineVideoEditor edition", "MedicDoesStuff edition"]
Branch_name = "" #@param {type:"string"}
Download_pretrain_datasets = False #@param {type: "boolean"}
Download_FFHQ = False #@param {type:"boolean"}

repositories = {
  'Official DFL':'iperov',
  'Original faceshiftlabs repository':'faceshiftlabs',
  'MachineVideoEditor edition': 'MachineEditor',
  'MedicDoesStuff edition': 'MedicDoesStuff'
}

pretrain_link = "https://github.com/chervonij/Fakers-Colab/releases/download/"
pretrain_link = pretrain_link+"pretrain_GenericFFHQ/pretrain_FFHQ.zip" if Download_FFHQ else pretrain_link+"pretrain-CelebA/pretrain_CelebA.zip"

from pathlib import Path
if Mode == 'install':
  git_cmd = ''
  if Branch_name: git_cmd += f"-b {Branch_name} "

  git_cmd += f"--depth 1 https://github.com/{repositories[Repository]}/FakersLab.git"
  !git clone $git_cmd

 # fix linux warning
  # /usr/lib/python3.8/multiprocessing/resource_tracker.py:143: UserWarning: semaphore_tracker: There appear to be 1 leaked semaphores to clean up at shutdown
  fin = open("/usr/lib/python3.8/multiprocessing/resource_tracker.py", "rt")
  data = fin.read()
  data = data.replace('if cache:', 'if False:')
  fin.close()

  fin = open("/usr/lib/python3.8/multiprocessing/resource_tracker.py", "wt")
  fin.write(data)
  fin.close()
elif Mode == 'update':
  %cd /content/FakersLab
  !git pull
else:
  answer = input("Are you sure you want to delete DFL folder? (y/n)").lower()
  while answer not in ["y", "n"]:
    print("Invalid input")
    answer = input("Are you sure you want to delete DFL folder? (y/n)").lower()
  if answer == "y":
    %cd /content
    %rm -r FakersLab/
    print("Done!")
  else:
    print("Cancelled...")

if Mode != 'remove':
  #!pip uninstall -y tensorflow
  !pip install -r /content/FakersLab/requirements-colab.txt
  !pip install --upgrade scikit-image
  #!apt-get install cuda-10-0

  if Download_pretrain_datasets:

    if not Path("/content/pretrain").exists():
      print("Downloading Pretrain faceset ... ")
      !wget -q --no-check-certificate -r $pretrain_link -O /content/pretrain_faceset.zip
      !mkdir /content/pretrain
      !unzip -q /content/pretrain_faceset.zip -d /content/pretrain/
      !rm /content/pretrain_faceset.zip

    if not Path("/content/pretrain_Q96").exists():
      print("Downloading Q96 pretrained model ...")
      !wget -q --no-check-certificate -r 'https://github.com/chervonij/Fakers-Colab/releases/download/Q96_model_pretrained/Q96_model_pretrained.zip' -O /content/pretrain_Q96.zip
      !mkdir /content/pretrain_Q96
      !unzip -q /content/pretrain_Q96.zip -d /content/pretrain_Q96/
      !rm /content/pretrain_Q96.zip

  if not Path("/content/workspace").exists():
    !mkdir /content/workspace; mkdir /content/workspace/data_src; mkdir /content/workspace/data_src/aligned; mkdir /content/workspace/data_dst; mkdir /content/workspace/data_dst/aligned; mkdir /content/workspace/model

  import IPython
  from google.colab import output

  display(IPython.display.Javascript('''
   function ClickConnect(){
     btn = document.querySelector("colab-connect-button")
     if (btn != null){
       console.log("Click colab-connect-button");
       btn.click()
     }

     btn = document.getElementById('ok')
     if (btn != null){
       console.log("Click reconnect");
       btn.click()
     }
   }

  setInterval(ClickConnect,60000)
'''))

print("\nDone!")
