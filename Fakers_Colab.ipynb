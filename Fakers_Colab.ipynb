{
  "cells": [
    {
      "cell_type": "markdown",
      "source": [
        "## **Mount with Google Drive accounts here.**"
      ],
      "metadata": {
        "id": "K5LvSv7b5bbb"
      }
    },
    {
      "cell_type": "code",
      "source": [
        "#@title Install Google Drive OCamlfuse silently and authorize your Google Drive account\n",
        "!sudo add-apt-repository -y ppa:alessandro-strada/ppa > /dev/null 2>&1\n",
        "!sudo apt-get update -qq\n",
        "!sudo apt-get install -y google-drive-ocamlfuse > /dev/null 2>&1\n",
        "\n",
        "# Mount Google Drive\n",
        "!google-drive-ocamlfuse > /dev/null 2>&1 &\n",
        "\n",
        "# Fetch and display the authorization link\n",
        "import re, sys\n",
        "output = !google-drive-ocamlfuse\n",
        "link = re.search(r'https?://accounts\\.google\\.com/[^ ]+', ' '.join(output))\n",
        "if link:\n",
        "    sys.stdout.write(link.group(0))\n",
        "else:\n",
        "    sys.stderr.write(\"The installation of OCamlfuse was unsuccessful! Google Colab Ubuntu's upgrade could be the root of the issue.\")"
      ],
      "metadata": {
        "cellView": "form",
        "id": "Ltr8ultwitsR"
      },
      "execution_count": null,
      "outputs": []
    },
    {
      "cell_type": "code",
      "source": [
        "#@title Mount Google Drive\n",
        "import os\n",
        "\n",
        "# Set debconf to noninteractive\n",
        "!echo 'debconf debconf/frontend select Noninteractive' | sudo debconf-set-selections\n",
        "\n",
        "# Install w3m browser and setup\n",
        "!sudo apt-get install -qq w3m\n",
        "\n",
        "# Suppress output for setting the browser, by redirecting to /dev/null\n",
        "!xdg-settings set default-web-browser w3m.desktop &> /dev/null\n",
        "\n",
        "# Mount Google Drive\n",
        "os.makedirs('/content/drive/MyDrive', exist_ok=True)\n",
        "!google-drive-ocamlfuse \"/content/drive/MyDrive\""
      ],
      "metadata": {
        "cellView": "form",
        "id": "U6xTGv7K5Lsx"
      },
      "execution_count": null,
      "outputs": []
    },
    {
      "cell_type": "markdown",
      "metadata": {
        "id": "0cKdTCuv4tXh"
      },
      "source": [
        "# 🟢 **Welcome to Fakers-Colab!**\n",
        "\n",
        "This is a ported version of FakersLab for Google Colab.\n",
        "\n",
        "\n",
        "# 🔴 ***Overview***\n",
        "*   Extraction works in full functionality.\n",
        "*   Training can be done without preview.\n",
        "*   Merger works in full functionality.\n",
        "*   You can import/export your workspace using Google Drive.\n",
        "*   Import/export and other manipulations with the workspace can be done in the \"Manage workspace\" block.\n",
        "*   Free runtimes can run for 6-10 hours. Fakers-Colab creates a backup of your workspace while trianing.\n",
        "*   Google doesn't favor long-term heavy calculations. Therefore, if you want to train for more than two sessions in a row, use two Google accounts. It is recommended to split your training across 2 accounts, but you can use one Google Drive account to store your workspace."
      ]
    },
    {
      "cell_type": "markdown",
      "metadata": {
        "id": "JuVn21kt40Gw"
      },
      "source": [
        "## ⚪ **Install or update FakersLab**\n",
        "\n",
        "* Install or update FakersLab directly from GitHub.\n",
        "* Requirements are automatically installed."
      ]
    },
    {
      "cell_type": "code",
      "execution_count": null,
      "metadata": {
        "cellView": "form",
        "id": "JG-f2WqT4fLK"
      },
      "outputs": [],
      "source": [
        "#@title Install or update FakersLab from Github\n",
        "\n",
        "Mode = \"install\" # @param [\"install\", \"update\", \"remove\"]\n",
        "Repository = \"MedicDoesStuff edition\" # @param [\"Official DFL\", \"Original faceshiftlabs repository\", \"MachineVideoEditor edition\", \"MedicDoesStuff edition\"]\n",
        "Branch_name = \"\" # @param {type:\"string\"}\n",
        "\n",
        "repositories = {\n",
        "  'Official DFL': 'iperov',\n",
        "  'Original faceshiftlabs repository': 'faceshiftlabs',\n",
        "  'MachineVideoEditor edition': 'MachineEditor',\n",
        "  'MedicDoesStuff edition': 'MedicDoesStuff'\n",
        "}\n",
        "\n",
        "from pathlib import Path\n",
        "if Mode == 'install':\n",
        "  branch_cmd = f\"-b {Branch_name} \" if Branch_name else \"\"\n",
        "  !git clone {branch_cmd}--depth 1 https://github.com/{repositories[Repository]}/FakersLab.git\n",
        "  data = Path(\"/usr/lib/python3.10/multiprocessing/resource_tracker.py\").read_text().replace('if cache:', 'if False:')\n",
        "  Path(\"/usr/lib/python3.10/multiprocessing/resource_tracker.py\").write_text(data)\n",
        "elif Mode == 'update':\n",
        "  %cd /content/FakersLab\n",
        "  !git pull\n",
        "elif Mode == 'remove':\n",
        "  if input(\"Are you sure you want to delete FakersLab folder? (y/n)\").lower().strip() == \"y\":\n",
        "    %cd /content\n",
        "    %rm -r FakersLab/\n",
        "    print(\"Done!\")\n",
        "  else:\n",
        "    print(\"Cancelled...\")\n",
        "\n",
        "if Mode != 'remove':\n",
        "  !pip install -r /content/FakersLab/requirements-colab.txt\n",
        "  !pip install --upgrade scikit-image\n",
        "\n",
        "  Path(\"/content/workspace\").mkdir(parents=True, exist_ok=True)\n",
        "  for subdir in [\"data_src\", \"data_src/aligned\", \"data_dst\", \"data_dst/aligned\", \"model\"]:\n",
        "    Path(f\"/content/workspace/{subdir}\").mkdir(parents=True, exist_ok=True)\n",
        "\n",
        "print(\"\\nDone!\")"
      ]
    },
    {
      "cell_type": "markdown",
      "metadata": {
        "id": "hqwOlJG4MdLC"
      },
      "source": [
        "## ⚪ **Manage workspace**\n",
        "\n",
        "\n",
        "\n",
        "*   You can import/export the workspace or individual data, such as model files, using Google Drive.\n",
        "*   You can clear the entire workspace or delete specific parts of it.\n",
        "\n"
      ]
    },
    {
      "cell_type": "code",
      "execution_count": null,
      "metadata": {
        "cellView": "form",
        "id": "y1Xl_HH2VAiw"
      },
      "outputs": [],
      "source": [
        "#@title Import from Drive\n",
        "\n",
        "Mode = \"workspace\" #@param [\"workspace\", \"data_src\", \"data_dst\", \"data_src aligned\", \"data_dst aligned\", \"models\"]\n",
        "Archive_name = \"workspace.zip\" #@param {type:\"string\"}\n",
        "\n",
        "def zip_and_copy(path, archive_name):\n",
        "    print(f\"Copying {archive_name} to {path} and unzipping...\")\n",
        "    %cd $path\n",
        "    !cp /content/drive/MyDrive/$archive_name $path\n",
        "    !unzip -q $archive_name\n",
        "    !rm $archive_name\n",
        "\n",
        "paths = {\n",
        "    \"workspace\": \"/content\",\n",
        "    \"data_src\": \"/content/workspace\",\n",
        "    \"data_dst\": \"/content/workspace\",\n",
        "    \"data_src aligned\": \"/content/workspace/data_src\",\n",
        "    \"data_dst aligned\": \"/content/workspace/data_dst\",\n",
        "    \"models\": \"/content/workspace\"\n",
        "}\n",
        "\n",
        "zip_and_copy(paths.get(Mode, \"/content\"), Archive_name)\n",
        "print(\"Done!\")"
      ]
    },
    {
      "cell_type": "code",
      "execution_count": null,
      "metadata": {
        "cellView": "form",
        "id": "0Y3WfuwoNXqC"
      },
      "outputs": [],
      "source": [
        "#@title Export to Drive { form-width: \"30%\" }\n",
        "\n",
        "Mode = \"workspace\" #@param [\"workspace\", \"data_src\", \"data_dst\", \"data_src aligned\", \"data_dst aligned\", \"merged\", \"merged_mask\", \"models\", \"result video\", \"result_mask video\"]\n",
        "Archive_name = \"workspace.zip\" #@param {type:\"string\"}\n",
        "\n",
        "def zip_and_copy(mode, archive_name):\n",
        "    paths = {\n",
        "    \"workspace\": \"/content/workspace/\",\n",
        "    \"data_src\": \"/content/workspace/data_src\",\n",
        "    \"data_dst\": \"/content/workspace/data_dst\",\n",
        "    \"data_src aligned\": \"/content/workspace/data_src/aligned\",\n",
        "    \"data_dst aligned\": \"/content/workspace/data_dst/aligned\",\n",
        "    \"merged\": \"/content/workspace/data_dst/merged\",\n",
        "    \"merged_mask\": \"/content/workspace/data_dst/merged_mask\",\n",
        "    \"models\": \"/content/workspace/models\"\n",
        "   }\n",
        "    path = paths.get(mode)\n",
        "\n",
        "    if path is None and mode in [\"result video\", \"result_mask video\"]:\n",
        "        file_name = \"result.mp4\" if mode == \"result video\" else \"result_mask.mp4\"\n",
        "        print(f\"Copying {file_name}...\")\n",
        "        !cp /content/workspace/$file_name /content/drive/MyDrive/\n",
        "    else:\n",
        "        folder_name = path.split('/')[-1]\n",
        "        parent_path = path.rsplit('/', 1)[0]\n",
        "\n",
        "        print(f\"Zipping {archive_name} including {folder_name}...\")\n",
        "        %cd $parent_path\n",
        "        !zip -r -q $archive_name $folder_name\n",
        "        print(\"Copying...\")\n",
        "        !cp $archive_name /content/drive/MyDrive/\n",
        "        !rm $archive_name\n",
        "\n",
        "zip_and_copy(Mode, Archive_name)\n",
        "\n",
        "print(\"Done!\")"
      ]
    },
    {
      "cell_type": "code",
      "execution_count": null,
      "metadata": {
        "cellView": "form",
        "id": "Ta6ue_UGMkki"
      },
      "outputs": [],
      "source": [
        "#@title Delete and recreate\n",
        "Mode = \"Delete and recreate workspace\" #@param [\"Delete and recreate workspace\", \"Delete models\", \"Delete data_src\", \"Delete data_src aligned\", \"Delete data_src video\", \"Delete data_dst\", \"Delete data_dst aligned\", \"Delete merged frames\"]\n",
        "\n",
        "%cd \"/content\"\n",
        "\n",
        "if Mode == \"Delete and recreate workspace\":\n",
        "  cmd = \"rm -r /content/workspace ; mkdir /content/workspace; mkdir /content/workspace/data_src; mkdir /content/workspace/data_src/aligned; mkdir /content/workspace/data_dst; mkdir /content/workspace/data_dst/aligned; mkdir /content/workspace/model\"\n",
        "elif Mode == \"Delete models\":\n",
        "  cmd = \"rm -r /content/workspace/model/*\"\n",
        "elif Mode == \"Delete data_src\":\n",
        "  cmd = \"rm /content/workspace/data_src/*.png || rm -r /content/workspace/data_src/*.jpg\"\n",
        "elif Mode == \"Delete data_src aligned\":\n",
        "  cmd = \"rm -r /content/workspace/data_src/aligned/*\"\n",
        "elif Mode == \"Delete data_src video\":\n",
        "  cmd = \"rm -r /content/workspace/data_src.*\"\n",
        "elif Mode == \"Delete data_dst\":\n",
        "  cmd = \"rm /content/workspace/data_dst/*.png || rm /content/workspace/data_dst/*.jpg\"\n",
        "elif Mode == \"Delete data_dst aligned\":\n",
        "  cmd = \"rm -r /content/workspace/data_dst/aligned/*\"\n",
        "elif Mode == \"Delete merged frames\":\n",
        "  cmd = \"rm -r /content/workspace/data_dst/merged; rm -r /content/workspace/data_dst/merged_mask\"\n",
        "\n",
        "answer = input(\"Are you sure you want to \" + Mode + \"? (y/n)\")\n",
        "while answer not in [\"y\", \"n\"]:\n",
        "  print(\"Invalid input\")\n",
        "  answer = input(\"Are you sure you want to \" + Mode + \"? (y/n)\")\n",
        "\n",
        "if answer == \"y\":\n",
        "  !$cmd\n",
        "  print(\"Done!\")\n",
        "else:\n",
        "  print(\"Cancelled...\")"
      ]
    },
    {
      "cell_type": "markdown",
      "metadata": {
        "id": "tUNVcbujhm00"
      },
      "source": [
        "## ⚪ **Extract, sorting and faceset tools**\n",
        "* Extract frames from the SRC or DST video.\n",
        "* Denoise the SRC or DST video. The \"factor\" parameter sets the intensity of denoising.\n",
        "* Detect and align faces. If needed, you can obtain frames with debug landmarks.\n",
        "* Export the workspace to Google Drive after extracting and sorting it manually (in the \"Manage workspace\" block).\n",
        "* You can enhance your facesets with FLEnhancer.\n",
        "* Resize the faceset to match your model's resolution. Resizing during training in Colab increases iteration time, but faceset resizing reduces it by about 2 times. Keep the original faceset saved on your PC.\n",
        "* Pack or unpack facesets with FL packing tool.\n",
        "* Apply or remove a trained XSeg model to the extracted faces.\n",
        "* It is recommended to use the Generic XSeg model for automatic segmentation."
      ]
    },
    {
      "cell_type": "code",
      "execution_count": null,
      "metadata": {
        "cellView": "form",
        "id": "qwJEbz5Nhot0"
      },
      "outputs": [],
      "source": [
        "#@title Extract frames\n",
        "Video = \"data_src\" #@param [\"data_src\", \"data_dst\"]\n",
        "\n",
        "%cd \"/content\"\n",
        "\n",
        "cmd = \"FakersLab/main.py videoed extract-video\"\n",
        "\n",
        "if Video == \"data_dst\":\n",
        "  cmd+= \" --input-file workspace/data_dst.* --output-dir workspace/data_dst/\"\n",
        "else:\n",
        "  cmd+= \" --input-file workspace/data_src.* --output-dir workspace/data_src/\"\n",
        "\n",
        "!python $cmd"
      ]
    },
    {
      "cell_type": "code",
      "execution_count": null,
      "metadata": {
        "cellView": "form",
        "id": "nmq0Sj2bmq7d"
      },
      "outputs": [],
      "source": [
        "#@title Detect faces\n",
        "Data = \"data_src\" #@param [\"data_src\", \"data_dst\"]\n",
        "Detector = \"S3FD (whole face)\" #@param [\"S3FD\", \"S3FD (whole face)\"]\n",
        "Debug = False #@param {type:\"boolean\"}\n",
        "\n",
        "detect_type = \"s3fd\"\n",
        "dbg = \" --output-debug\" if Debug else \" --no-output-debug\"\n",
        "\n",
        "folder = \"workspace/\"+Data\n",
        "folder_aligned = folder+\"/aligned\"\n",
        "\n",
        "cmd = \"FakersLab/main.py extract --input-dir \"+folder+\" --output-dir \"+folder_aligned\n",
        "cmd+=\" --detector \"+detect_type+\" --force-gpu-idxs 0\"+dbg\n",
        "\n",
        "if \"whole face\" in Detector:\n",
        "  cmd+=\" --face-type whole_face\"\n",
        "%cd \"/content\"\n",
        "!python $cmd"
      ]
    },
    {
      "cell_type": "code",
      "execution_count": null,
      "metadata": {
        "cellView": "form",
        "id": "TRNxUFE6p6Eu"
      },
      "outputs": [],
      "source": [
        "#@title Sort aligned\n",
        "Data = \"data_src\" #@param [\"data_src\", \"data_dst\"]\n",
        "sort_type = \"hist\" #@param [\"blur\", \"motion-blur\", \"face-yaw\", \"face-pitch\", \"face-source-rect-size\", \"hist\", \"hist-dissim\", \"brightness\", \"hue\", \"black\", \"origname\", \"oneface\", \"final-by-blur\", \"final-by-size\", \"absdiff\"]\n",
        "\n",
        "cmd = \"FakersLab/main.py sort --input-dir workspace/\"+Data+\"/aligned --by \"+sort_type\n",
        "\n",
        "%cd \"/content\"\n",
        "!python $cmd"
      ]
    },
    {
      "cell_type": "code",
      "execution_count": null,
      "metadata": {
        "cellView": "form",
        "id": "O5MbnVDyXkP7"
      },
      "outputs": [],
      "source": [
        "#@title Faceset Enhancer\n",
        "Data = \"data_src\" #@param [\"data_src\", \"data_dst\"]\n",
        "\n",
        "data_path = \"/content/workspace/\"+Data+\"/aligned\"\n",
        "cmd = \"/content/FakersLab/main.py facesettool enhance --input-dir \"+data_path\n",
        "!python $cmd"
      ]
    },
    {
      "cell_type": "code",
      "execution_count": null,
      "metadata": {
        "cellView": "form",
        "id": "Hyg5SREuMx8Q"
      },
      "outputs": [],
      "source": [
        "#@title Resize faceset\n",
        "Data = \"data_src\" #@param [\"data_src\", \"data_dst\"]\n",
        "\n",
        "cmd = \"/content/FakersLab/main.py facesettool resize --input-dir /content/workspace/\" + \\\n",
        "      f\"{Data}/aligned\"\n",
        "\n",
        "!python $cmd"
      ]
    },
    {
      "cell_type": "code",
      "execution_count": null,
      "metadata": {
        "cellView": "form",
        "id": "ypLfPUNHZNEp"
      },
      "outputs": [],
      "source": [
        "#@title Pack/Unpack aligned faceset\n",
        "\n",
        "Folder = \"data_src\" #@param [\"data_src\", \"data_dst\"]\n",
        "Mode = \"unpack\" #@param [\"pack\", \"unpack\"]\n",
        "\n",
        "cmd = \"/content/FakersLab/main.py util --input-dir /content/workspace/\" + \\\n",
        "      f\"{Folder}/aligned --{Mode}-faceset\"\n",
        "\n",
        "!python $cmd"
      ]
    },
    {
      "cell_type": "code",
      "execution_count": null,
      "metadata": {
        "cellView": "form",
        "id": "-VVvtoBMGnrA"
      },
      "outputs": [],
      "source": [
        "#@title Apply or remove XSeg mask to the faces\n",
        "Mode = \"Apply mask\" # @param [\"Apply mask\", \"Remove mask\"]\n",
        "Data = \"data_src\" # @param [\"data_src\", \"data_dst\"]\n",
        "GenericXSeg = True # @param {type:\"boolean\"}\n",
        "\n",
        "from pathlib import Path\n",
        "\n",
        "mode_arg = 'apply' if Mode == \"Apply mask\" else 'remove'\n",
        "\n",
        "if GenericXSeg:\n",
        "    xseg_path = Path('/content/GenericXSeg')\n",
        "    if not xseg_path.exists():\n",
        "        print('Downloading Generic XSeg model ...')\n",
        "        xseg_url = 'https://cdn.discordapp.com/attachments/792165487760375858/878986010426490910/model_generic_xseg.zip'\n",
        "        xseg_path.mkdir(parents=True)\n",
        "        !wget -q --no-check-certificate $xseg_url -O /content/GenericXSeg.zip\n",
        "        !unzip -q /content/GenericXSeg.zip -d /content/GenericXSeg/\n",
        "        !rm /content/GenericXSeg.zip\n",
        "\n",
        "main_path = '/content/FakersLab/main.py'\n",
        "data_path = f'/content/workspace/{Data}/aligned'\n",
        "model_path = '/content/workspace/model' if not GenericXSeg else str(xseg_path)\n",
        "\n",
        "cmd = f'python {main_path} xseg {mode_arg} --input-dir {data_path} '\n",
        "cmd += f'--model-dir {model_path}' if mode_arg == 'apply' else ''\n",
        "\n",
        "!$cmd"
      ]
    },
    {
      "cell_type": "markdown",
      "metadata": {
        "id": "WTuyUxgdLA13"
      },
      "source": [
        "## ⚪ **Train model**\n",
        "\n",
        "* Choose your model type, but SAEHD is recommended for everyone.\n",
        "* Set model options in the output field.\n",
        "* You can manually preview by going to the model folder in the file manager and double-clicking on the PNG files.\n",
        "* Your workspace will be archived and uploaded to the mounted Drive after 11 hours from the start of the session.\n",
        "* If you select the \"Backup_every_hour\" option, your workspace will be backed up every hour.\n",
        "* You can also manually export your workspace in the \"Manage workspace\" block.\n",
        "* The \"Silent_Start\" option automatically starts with the best GPU and the last model you used."
      ]
    },
    {
      "cell_type": "code",
      "execution_count": null,
      "metadata": {
        "cellView": "form",
        "id": "E3MeOt_5Fbaz"
      },
      "outputs": [],
      "source": [
        "#@title Uptime\n",
        "import psutil, os, time\n",
        "\n",
        "p = psutil.Process(os.getpid())\n",
        "uptime = time.time() - p.create_time()\n",
        "print(f'Session in running from {int(uptime / 3600)} hours')"
      ]
    },
    {
      "cell_type": "code",
      "execution_count": null,
      "metadata": {
        "cellView": "form",
        "id": "k-ya_slpU9mZ"
      },
      "outputs": [],
      "source": [
        "#@title Training\n",
        "Model = \"SAEHD\" #@param [\"SAEHD\", \"AMP\", \"AMPLegacy\", \"Quick96\", \"XSeg\"]\n",
        "Train_only_src = False #@param {type:\"boolean\"}\n",
        "Archive_name_backup = \"workspace.zip\" #@param {type:\"string\"}\n",
        "Pretraining_dataset_path = '/content/pretrain/' #@param {type:\"string\"}\n",
        "Export_model_only = False #@param {type:\"boolean\"}\n",
        "Backup_every_specified_time = True #@param {type:\"boolean\"}\n",
        "backup_time = 1 #@param {type:\"number\"}\n",
        "Silent_Start = True #@param {type:\"boolean\"}\n",
        "\n",
        "%cd \"/content\"\n",
        "\n",
        "import psutil, os, time\n",
        "\n",
        "p = psutil.Process(os.getpid())\n",
        "uptime = time.time() - p.create_time()\n",
        "\n",
        "if Export_model_only:\n",
        "  if os.path.exists(Archive_name_backup) and not os.path.exists(Archive_name_backup.replace('.zip', '_model.zip')):\n",
        "    os.system(f\"rm {Archive_name_backup}\")\n",
        "    print('Full workspace archive deleted\\nCreating model archive...')\n",
        "    os.system('zip -0 -r -q '+Archive_name_backup.replace('.zip', '_model.zip')+' workspace/model')\n",
        "    print(\"Archive created!\")\n",
        "  elif not os.path.exists(Archive_name_backup) and not os.path.exists(Archive_name_backup.replace('.zip', '_model.zip')):\n",
        "    print('Creating model archive...')\n",
        "    os.system('zip -0 -r -q '+Archive_name_backup.replace('.zip', '_model.zip')+' workspace/model')\n",
        "  else:\n",
        "    print('Archive exists')\n",
        "\n",
        "\n",
        "if Backup_every_specified_time and not Export_model_only:\n",
        "  if not os.path.exists(Archive_name_backup):\n",
        "    if os.path.exists(Archive_name_backup.replace('.zip', '_model.zip')):\n",
        "      print('Removing model archive...')\n",
        "      os.system(f\"rm {Archive_name_backup.replace('.zip', '_model.zip')}\")\n",
        "    print(\"Creating workspace archive ...\")\n",
        "    os.system('zip -0 -r -q '+Archive_name_backup+' workspace')\n",
        "    print(\"Archive created!\")\n",
        "  else:\n",
        "    print(\"Archive exists!\")\n",
        "\n",
        "if Backup_every_specified_time:\n",
        "  print(\"Time to end session: \"+str(round((43200-uptime)/3600))+\" hours\")\n",
        "  backup_time = str(backup_time * 3600)\n",
        "  if not Export_model_only:\n",
        "    backup_cmd = \" --execute-program -\"+backup_time+\" \\\"import os; os.system('zip -0 -r -q \"+Archive_name_backup+\" workspace/model'); os.system('cp /content/\"+Archive_name_backup+\" /content/drive/MyDrive/'); print('Backed up!') \\\"\"\n",
        "  else:\n",
        "    backup_cmd = \" --execute-program -\"+backup_time+\" \\\"import os; os.system('zip -0 -r -q \"+Archive_name_backup.replace('.zip', '_model.zip')+\" workspace/model'); os.system('cp /content/\"+Archive_name_backup.replace('.zip', '_model.zip') +\" /content/drive/My\\ Drive/'); print('Backed up!') \\\"\"\n",
        "elif (round(39600-uptime) > 0):\n",
        "  print(\"Time to backup: \"+str(round((39600-uptime)/3600))+\" hours\")\n",
        "  backup_time = str(round(39600-uptime))\n",
        "  if not Export_model_only:\n",
        "    backup_cmd = \" --execute-program -\"+backup_time+\" \\\"import os; os.system('zip -0 -r -q \"+Archive_name_backup+\" workspace'); os.system('cp /content/\"+Archive_name_backup+\" /content/drive/MyDrive/'); print('Backed up!') \\\"\"\n",
        "  else:\n",
        "    backup_cmd = \" --execute-program -\"+backup_time+\" \\\"import os; os.system('zip -0 -r -q \"+Archive_name_backup.replace('.zip', '_model.zip')+\" workspace/model'); os.system('cp /content/\"+Archive_name_backup.replace('.zip', '_model.zip') +\" /content/drive/My\\ Drive/'); print('Backed up!') \\\"\"\n",
        "else:\n",
        "  print(\"Session expires in less than an hour.\")\n",
        "  backup_cmd = \"\"\n",
        "\n",
        "if Train_only_src:\n",
        "  if Model not in [\"AMP\", \"AMPLegacy\"]:\n",
        "    answer = ''\n",
        "    print('The src-src training is only for AMP model. Do you want to continue anyway? (y/n)')\n",
        "    while True:\n",
        "      answer = input()\n",
        "      if answer == 'y':\n",
        "        cmd = \"FakersLab/main.py train --training-data-src-dir workspace/data_src/aligned --training-data-dst-dir workspace/data_src/aligned --pretraining-data-dir \" + Pretraining_dataset_path + \" --model-dir workspace/model --model \"+Model\n",
        "      elif answer == 'n':\n",
        "        cmd = \"FakersLab/main.py train --training-data-src-dir workspace/data_src/aligned --training-data-dst-dir workspace/data_dst/aligned --pretraining-data-dir \" + Pretraining_dataset_path + \" --model-dir workspace/model --model \"+Model\n",
        "      else:\n",
        "        print('Wrong value! Insert y or n:')\n",
        "      if answer in ['y', 'n']:\n",
        "        break\n",
        "  else:\n",
        "    cmd = \"FakersLab/main.py train --training-data-src-dir workspace/data_src/aligned --training-data-dst-dir workspace/data_src/aligned --pretraining-data-dir \" + Pretraining_dataset_path + \" --model-dir workspace/model --model \"+Model\n",
        "else:\n",
        "  cmd = \"FakersLab/main.py train --training-data-src-dir workspace/data_src/aligned --training-data-dst-dir workspace/data_dst/aligned --pretraining-data-dir \" + Pretraining_dataset_path + \" --model-dir workspace/model --model \"+Model\n",
        "\n",
        "if Model == \"Quick96\":\n",
        "  cmd += \" --pretrained-model-dir pretrain_Q96\"\n",
        "\n",
        "if Silent_Start:\n",
        "  cmd += \" --silent-start\"\n",
        "\n",
        "if (backup_cmd != \"\"):\n",
        "  train_cmd = (cmd+backup_cmd)\n",
        "else:\n",
        "  train_cmd = (cmd)\n",
        "\n",
        "!python $train_cmd"
      ]
    },
    {
      "cell_type": "markdown",
      "metadata": {
        "id": "avAcSL_uvtq_"
      },
      "source": [
        "## ⚪ **Merge frames**"
      ]
    },
    {
      "cell_type": "code",
      "execution_count": null,
      "metadata": {
        "cellView": "form",
        "id": "A3Y8K22Sv9Gn"
      },
      "outputs": [],
      "source": [
        "#@title Merge\n",
        "Model = \"SAEHD\" #@param [\"SAEHD\", \"AMP\", \"Quick96\" ]\n",
        "\n",
        "cmd = \"FakersLab/main.py merge --input-dir workspace/data_dst --output-dir workspace/data_dst/merged --output-mask-dir workspace/data_dst/merged_mask --aligned-dir workspace/data_dst/aligned --model-dir workspace/model --model \"+Model\n",
        "\n",
        "%cd \"/content\"\n",
        "!python $cmd"
      ]
    },
    {
      "cell_type": "code",
      "execution_count": null,
      "metadata": {
        "cellView": "form",
        "id": "JNeGfiZpxlnz"
      },
      "outputs": [],
      "source": [
        "#@title Get result video\n",
        "Mode = \"result video\" #@param [\"result video\", \"result_mask video\"]\n",
        "Bitrate = 24 #@param {type:\"integer\"}\n",
        "Copy_to_Drive = True #@param {type:\"boolean\"}\n",
        "\n",
        "cmd = \"FakersLab/main.py videoed video-from-sequence --input-dir workspace/data_dst/merged --output-file workspace/result.mp4 --reference-file workspace/data_dst.mp4 --include-audio --bitrate \" + str(Bitrate)\n",
        "cmd_mask = \"FakersLab/main.py videoed video-from-sequence --input-dir workspace/data_dst/merged_mask --output-file workspace/result_mask.mp4 --reference-file workspace/data_dst.mp4 --bitrate \" +str(Bitrate)\n",
        "\n",
        "if Mode == \"result video\":\n",
        "  !python $cmd\n",
        "  if Copy_to_Drive:\n",
        "    !cp /content/workspace/result.mp4 /content/drive/MyDrive/\n",
        "elif Mode == \"result_mask video\":\n",
        "  !python $cmd_mask\n",
        "  if Copy_to_Drive:\n",
        "    !cp /content/workspace/result_mask.mp4 /content/drive/MyDrive/\n"
      ]
    }
  ],
  "metadata": {
    "accelerator": "GPU",
    "colab": {
      "collapsed_sections": [
        "K5LvSv7b5bbb",
        "JuVn21kt40Gw",
        "hqwOlJG4MdLC",
        "tUNVcbujhm00",
        "WTuyUxgdLA13",
        "avAcSL_uvtq_"
      ],
      "provenance": []
    },
    "kernelspec": {
      "display_name": "Python 3",
      "name": "python3"
    }
  },
  "nbformat": 4,
  "nbformat_minor": 0
}
